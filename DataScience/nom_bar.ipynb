{
 "cells": [
  {
   "cell_type": "code",
   "execution_count": 1,
   "id": "cb137e72",
   "metadata": {},
   "outputs": [],
   "source": [
    "import numpy as np\n",
    "import pandas as pd"
   ]
  },
  {
   "cell_type": "code",
   "execution_count": 24,
   "id": "297bc536",
   "metadata": {},
   "outputs": [
    {
     "name": "stderr",
     "output_type": "stream",
     "text": [
      "c:\\users\\natas\\appdata\\local\\programs\\python\\python39\\lib\\site-packages\\IPython\\core\\interactiveshell.py:3165: DtypeWarning: Columns (35,37) have mixed types.Specify dtype option on import or set low_memory=False.\n",
      "  has_raised = await self.run_ast_nodes(code_ast.body, cell_name,\n"
     ]
    }
   ],
   "source": [
    "df=pd.read_csv (\"2019_censcomercialbcn_detall.csv\")"
   ]
  },
  {
   "cell_type": "code",
   "execution_count": 4,
   "id": "148dfe9a",
   "metadata": {},
   "outputs": [],
   "source": [
    "terrasa=pd.read_csv (\"2021_2s_data_set_opendata_terrasses.csv\")\n"
   ]
  },
  {
   "cell_type": "code",
   "execution_count": 23,
   "id": "d5526de4",
   "metadata": {},
   "outputs": [
    {
     "data": {
      "text/html": [
       "<div>\n",
       "<style scoped>\n",
       "    .dataframe tbody tr th:only-of-type {\n",
       "        vertical-align: middle;\n",
       "    }\n",
       "\n",
       "    .dataframe tbody tr th {\n",
       "        vertical-align: top;\n",
       "    }\n",
       "\n",
       "    .dataframe thead th {\n",
       "        text-align: right;\n",
       "    }\n",
       "</style>\n",
       "<table border=\"1\" class=\"dataframe\">\n",
       "  <thead>\n",
       "    <tr style=\"text-align: right;\">\n",
       "      <th></th>\n",
       "      <th>DATA_EXPLO</th>\n",
       "      <th>OCUPACIO</th>\n",
       "      <th>CODI_DISTRICTE</th>\n",
       "      <th>NOM_DISTRICTE</th>\n",
       "      <th>CODI_BARRI</th>\n",
       "      <th>NOM_BARRI</th>\n",
       "      <th>EMPLACAMENT</th>\n",
       "      <th>SUPERFICIE_OCUPADA</th>\n",
       "      <th>TAULES</th>\n",
       "      <th>CADIRES</th>\n",
       "      <th>ORDENACIO</th>\n",
       "      <th>VIGENCIA</th>\n",
       "      <th>X_ETRS89</th>\n",
       "      <th>Y_ETRS89</th>\n",
       "      <th>LATITUD</th>\n",
       "      <th>LONGITUD</th>\n",
       "      <th>Nom_Via</th>\n",
       "      <th>Numero</th>\n",
       "    </tr>\n",
       "  </thead>\n",
       "  <tbody>\n",
       "    <tr>\n",
       "      <th>0</th>\n",
       "      <td>1/1/2022 0:00:00</td>\n",
       "      <td>Terrasses en Via Pública</td>\n",
       "      <td>2</td>\n",
       "      <td>Eixample</td>\n",
       "      <td>9</td>\n",
       "      <td>la Nova Esquerra de l'Eixample</td>\n",
       "      <td>C. CALABRIA, 118</td>\n",
       "      <td>6.75</td>\n",
       "      <td>3.0</td>\n",
       "      <td>12.0</td>\n",
       "      <td>Ordenació General</td>\n",
       "      <td>Anual</td>\n",
       "      <td>29243133</td>\n",
       "      <td>81373239</td>\n",
       "      <td>41.380772</td>\n",
       "      <td>2.153789</td>\n",
       "      <td>CALABRIA</td>\n",
       "      <td>118</td>\n",
       "    </tr>\n",
       "    <tr>\n",
       "      <th>1</th>\n",
       "      <td>1/1/2022 0:00:00</td>\n",
       "      <td>Terrasses en Via Pública</td>\n",
       "      <td>2</td>\n",
       "      <td>Eixample</td>\n",
       "      <td>9</td>\n",
       "      <td>la Nova Esquerra de l'Eixample</td>\n",
       "      <td>C. PROVENÇA, 32</td>\n",
       "      <td>6.75</td>\n",
       "      <td>3.0</td>\n",
       "      <td>12.0</td>\n",
       "      <td>Ordenació General</td>\n",
       "      <td>Anual</td>\n",
       "      <td>28527620</td>\n",
       "      <td>81552011</td>\n",
       "      <td>41.382319</td>\n",
       "      <td>2.145211</td>\n",
       "      <td>PROVENÇA</td>\n",
       "      <td>32</td>\n",
       "    </tr>\n",
       "    <tr>\n",
       "      <th>2</th>\n",
       "      <td>1/1/2022 0:00:00</td>\n",
       "      <td>Terrasses en Via Pública</td>\n",
       "      <td>2</td>\n",
       "      <td>Eixample</td>\n",
       "      <td>9</td>\n",
       "      <td>la Nova Esquerra de l'Eixample</td>\n",
       "      <td>C. COMTE BORRELL, 292</td>\n",
       "      <td>6.00</td>\n",
       "      <td>2.0</td>\n",
       "      <td>8.0</td>\n",
       "      <td>Ordenació General</td>\n",
       "      <td>Anual</td>\n",
       "      <td>28669392</td>\n",
       "      <td>82340905</td>\n",
       "      <td>41.389437</td>\n",
       "      <td>2.146814</td>\n",
       "      <td>COMTE BORRELL</td>\n",
       "      <td>292</td>\n",
       "    </tr>\n",
       "    <tr>\n",
       "      <th>3</th>\n",
       "      <td>1/1/2022 0:00:00</td>\n",
       "      <td>Terrasses en Via Pública</td>\n",
       "      <td>2</td>\n",
       "      <td>Eixample</td>\n",
       "      <td>9</td>\n",
       "      <td>la Nova Esquerra de l'Eixample</td>\n",
       "      <td>C. ROSSELLO, 99</td>\n",
       "      <td>3.90</td>\n",
       "      <td>2.0</td>\n",
       "      <td>4.0</td>\n",
       "      <td>Ordenació General</td>\n",
       "      <td>Anual</td>\n",
       "      <td>28760910</td>\n",
       "      <td>82001021</td>\n",
       "      <td>41.386384</td>\n",
       "      <td>2.147948</td>\n",
       "      <td>ROSSELLO</td>\n",
       "      <td>99</td>\n",
       "    </tr>\n",
       "    <tr>\n",
       "      <th>4</th>\n",
       "      <td>1/1/2022 0:00:00</td>\n",
       "      <td>Terrasses en Via Pública</td>\n",
       "      <td>2</td>\n",
       "      <td>Eixample</td>\n",
       "      <td>9</td>\n",
       "      <td>la Nova Esquerra de l'Eixample</td>\n",
       "      <td>C. CONSELL DE CENT, 140</td>\n",
       "      <td>2.40</td>\n",
       "      <td>2.0</td>\n",
       "      <td>4.0</td>\n",
       "      <td>Ordenació General</td>\n",
       "      <td>Anual</td>\n",
       "      <td>29232800</td>\n",
       "      <td>81496183</td>\n",
       "      <td>41.381879</td>\n",
       "      <td>2.153651</td>\n",
       "      <td>CONSELL DE CENT</td>\n",
       "      <td>140</td>\n",
       "    </tr>\n",
       "  </tbody>\n",
       "</table>\n",
       "</div>"
      ],
      "text/plain": [
       "         DATA_EXPLO                  OCUPACIO  CODI_DISTRICTE NOM_DISTRICTE  \\\n",
       "0  1/1/2022 0:00:00  Terrasses en Via Pública               2      Eixample   \n",
       "1  1/1/2022 0:00:00  Terrasses en Via Pública               2      Eixample   \n",
       "2  1/1/2022 0:00:00  Terrasses en Via Pública               2      Eixample   \n",
       "3  1/1/2022 0:00:00  Terrasses en Via Pública               2      Eixample   \n",
       "4  1/1/2022 0:00:00  Terrasses en Via Pública               2      Eixample   \n",
       "\n",
       "   CODI_BARRI                       NOM_BARRI              EMPLACAMENT  \\\n",
       "0           9  la Nova Esquerra de l'Eixample         C. CALABRIA, 118   \n",
       "1           9  la Nova Esquerra de l'Eixample          C. PROVENÇA, 32   \n",
       "2           9  la Nova Esquerra de l'Eixample    C. COMTE BORRELL, 292   \n",
       "3           9  la Nova Esquerra de l'Eixample          C. ROSSELLO, 99   \n",
       "4           9  la Nova Esquerra de l'Eixample  C. CONSELL DE CENT, 140   \n",
       "\n",
       "   SUPERFICIE_OCUPADA  TAULES  CADIRES          ORDENACIO VIGENCIA  X_ETRS89  \\\n",
       "0                6.75     3.0     12.0  Ordenació General    Anual  29243133   \n",
       "1                6.75     3.0     12.0  Ordenació General    Anual  28527620   \n",
       "2                6.00     2.0      8.0  Ordenació General    Anual  28669392   \n",
       "3                3.90     2.0      4.0  Ordenació General    Anual  28760910   \n",
       "4                2.40     2.0      4.0  Ordenació General    Anual  29232800   \n",
       "\n",
       "   Y_ETRS89    LATITUD  LONGITUD          Nom_Via Numero  \n",
       "0  81373239  41.380772  2.153789         CALABRIA    118  \n",
       "1  81552011  41.382319  2.145211         PROVENÇA     32  \n",
       "2  82340905  41.389437  2.146814    COMTE BORRELL    292  \n",
       "3  82001021  41.386384  2.147948         ROSSELLO     99  \n",
       "4  81496183  41.381879  2.153651  CONSELL DE CENT    140  "
      ]
     },
     "execution_count": 23,
     "metadata": {},
     "output_type": "execute_result"
    }
   ],
   "source": [
    "terrasa['Nom_Via']=terrasa['EMPLACAMENT'].apply(lambda x: x[3:x.find(',')])\n",
    "terrasa['Numero']=terrasa['EMPLACAMENT'].apply(lambda x: x[x.find(',')+2:])\n",
    "terrasa.head()"
   ]
  },
  {
   "cell_type": "code",
   "execution_count": null,
   "id": "ca2dc510",
   "metadata": {},
   "outputs": [],
   "source": [
    "nom_local=df[df['Nom_Via'].str.contains(r'\\bPALLARS')&df['Direccio_Unica'].str.contains(r'\\b14')]\n",
    "nom_local.iloc[0]['Nom_Local']    "
   ]
  },
  {
   "cell_type": "code",
   "execution_count": 62,
   "id": "3483dfd5",
   "metadata": {},
   "outputs": [],
   "source": [
    "def get_nom_local(nom_via,numero):\n",
    "    nom_local=''\n",
    "    df_nom_local=df[df['Nom_Via'].str.contains(nom_via)&df['Direccio_Unica'].str.contains(numero)]\n",
    "    if len(df_nom_local)==1:\n",
    "        nom_local=df_nom_local.iloc[0]['Nom_Local']         \n",
    "    elif len(df_nom_local)>1:    \n",
    "        nom_local='varios'\n",
    "    return nom_local    "
   ]
  },
  {
   "cell_type": "code",
   "execution_count": 63,
   "id": "24a52a27",
   "metadata": {},
   "outputs": [],
   "source": [
    "terrasa['nom_local']=terrasa.apply(lambda x: get_nom_local(x[\"Nom_Via\"],x[\"Numero\"]), axis=1)"
   ]
  },
  {
   "cell_type": "code",
   "execution_count": 66,
   "id": "ddb2967a",
   "metadata": {},
   "outputs": [],
   "source": [
    "terrasa.to_csv('terrasses_nom_local.csv')  "
   ]
  },
  {
   "cell_type": "code",
   "execution_count": null,
   "id": "6630c67c",
   "metadata": {},
   "outputs": [],
   "source": []
  }
 ],
 "metadata": {
  "kernelspec": {
   "display_name": "Python 3",
   "language": "python",
   "name": "python3"
  },
  "language_info": {
   "codemirror_mode": {
    "name": "ipython",
    "version": 3
   },
   "file_extension": ".py",
   "mimetype": "text/x-python",
   "name": "python",
   "nbconvert_exporter": "python",
   "pygments_lexer": "ipython3",
   "version": "3.9.2"
  }
 },
 "nbformat": 4,
 "nbformat_minor": 5
}
